{
 "cells": [
  {
   "cell_type": "markdown",
   "metadata": {},
   "source": [
    "# Comparing Algorithms on FBST Dataset"
   ]
  },
  {
   "cell_type": "code",
   "execution_count": null,
   "metadata": {},
   "outputs": [],
   "source": [
    "import sys\n",
    "import random\n",
    "\n",
    "# add library to path (or else, src not visible)\n",
    "sys.path.insert(0, \"../../\")\n",
    "\n",
    "import matplotlib.pyplot as plt\n",
    "import numpy as np\n",
    "import pandas as pd\n",
    "import seaborn as sns\n",
    "from tqdm import tqdm\n",
    "\n",
    "from src.AllocationSolver import AllocationSolver\n",
    "from src.dists import SymmetricDiscreteDistribution, Distribution, UniformDistribution, NormalDistribution\n",
    "from src.plots import plot_against_algos, plot_against_alpha, plot_versus_alpha, map_algo_to_name, map_algo_to_color, synthetic_summary_plots\n",
    "from src.monte_carlo import hoeffding_bound\n",
    "from src.format_data import clean_data\n",
    "\n",
    "# use seaborn style plotting for poster presentation\n",
    "sns.set_context(\"talk\")\n",
    "sns.set_style(\"whitegrid\")"
   ]
  },
  {
   "cell_type": "markdown",
   "metadata": {},
   "source": [
    "## Mobile Food Pantries\n",
    "\n",
    "We have 70 demand locations, model with Normal demands."
   ]
  },
  {
   "cell_type": "code",
   "execution_count": null,
   "metadata": {},
   "outputs": [],
   "source": [
    "data = clean_data(pd.read_excel(\"../../data/mfp_food_pantries.xlsx\"))\n",
    "\n",
    "# create demand distributions\n",
    "demand_dists = [NormalDistribution(mu, sigma) for mu, sigma in zip(data[\"avg_demand\"], data[\"std_demand\"])]\n",
    "n = hoeffding_bound(0.01, 0.01)"
   ]
  },
  {
   "cell_type": "code",
   "execution_count": null,
   "metadata": {},
   "outputs": [],
   "source": [
    "prob = AllocationSolver(\n",
    "    demand_distributions=demand_dists,\n",
    "    initial_supply=sum(demand_dists[i].mean() for i in range(len(demand_dists))),\n",
    "    alpha=1,\n",
    "    allocation_method=\"saffe\"\n",
    ")"
   ]
  },
  {
   "cell_type": "code",
   "execution_count": null,
   "metadata": {},
   "outputs": [],
   "source": [
    "prob.change_allocation_method('ppa')\n",
    "prob.monte_carlo_performance_metrics_batched(1000)"
   ]
  },
  {
   "cell_type": "markdown",
   "metadata": {},
   "source": [
    "### Expected Waste vs. $\\alpha$"
   ]
  },
  {
   "cell_type": "code",
   "execution_count": null,
   "metadata": {},
   "outputs": [],
   "source": [
    "random.seed(1)\n",
    "np.random.seed(1)\n",
    "\n",
    "n = hoeffding_bound(0.1, 0.01)\n",
    "\n",
    "def generator(alpha):\n",
    "    prob.change_alpha(alpha)\n",
    "    prob.change_allocation_method(\"lambda_time\")\n",
    "    prob.optimize_lambda(tol=0.1, monte_carlo=True, batch=True)\n",
    "    return prob.monte_carlo_performance_metrics_batched(n)['waste']\n",
    "\n",
    "plot_versus_alpha(generator, x_lab=rf\"$\\alpha$\", y_lab=\"Expected Waste\", title=rf\"Expected Waste vs. $\\alpha$\")\n",
    "\n",
    "algos = [\"ppa\", \"greedy\", \"saffe\"]\n",
    "wastes = {\n",
    "    \"ppa\": 108,\n",
    "    \"greedy\": 92,\n",
    "    \"saffe\": 131\n",
    "}\n",
    "\n",
    "for algo in algos:\n",
    "    prob.change_allocation_method(algo)\n",
    "    avg_waste = wastes[algo]\n",
    "    plt.axhline(xmax=0, xmin=10, y=avg_waste, label=map_algo_to_name[algo], color=map_algo_to_color[algo])\n",
    "\n",
    "plt.legend()"
   ]
  }
 ],
 "metadata": {
  "language_info": {
   "name": "python"
  }
 },
 "nbformat": 4,
 "nbformat_minor": 2
}
