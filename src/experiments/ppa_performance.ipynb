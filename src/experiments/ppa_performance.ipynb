{
 "cells": [
  {
   "cell_type": "markdown",
   "metadata": {},
   "source": [
    "# PPA Performance\n",
    "\n",
    "For various values of $\\alpha$, we want to demonstrate its suboptimality on general $\\alpha$-fairness objectives.\n",
    "\n",
    "The relative gap between the performance of the PPA algorithm and the optimal DP solution is given."
   ]
  },
  {
   "cell_type": "code",
   "execution_count": 1,
   "metadata": {},
   "outputs": [],
   "source": [
    "import sys\n",
    "\n",
    "# add library to path (or else, src not visible)\n",
    "sys.path.insert(0, \"../../\")\n",
    "\n",
    "import matplotlib.pyplot as plt\n",
    "import numpy as np\n",
    "\n",
    "from src.AllocationSolver import AllocationSolver, social_welfare_absolute, social_welfare_relative\n",
    "from src.dists import SymmetricDiscreteDistribution, Distribution, UniformDistribution\n",
    "from src.random_problem import generate_random_problem, generate_general_distribution"
   ]
  },
  {
   "cell_type": "code",
   "execution_count": 5,
   "metadata": {},
   "outputs": [
    {
     "name": "stdout",
     "output_type": "stream",
     "text": [
      "Mean relative difference:  0.023470229818205623\n"
     ]
    }
   ],
   "source": [
    "trials = 10\n",
    "\n",
    "Z_exacts = np.zeros(trials)\n",
    "Z_ppas = np.zeros(trials)\n",
    "\n",
    "for i in range(trials):\n",
    "    prob = generate_random_problem(4, generate_general_distribution(2), allocation_method=\"ppa\", alloc_step=0.02)\n",
    "    Z_ppa, w_ppa = prob.solve(ex_ante=False)\n",
    "    prob.change_allocation_method(\"exact\")\n",
    "    Z_exact, w_exact = prob.solve(ex_ante=False)\n",
    "\n",
    "    Z_exacts[i] = Z_exact\n",
    "    Z_ppas[i] = Z_ppa\n",
    "\n",
    "relative_diff = (Z_exacts - Z_ppas) / Z_exacts\n",
    "\n",
    "print(\"Mean relative difference: \", np.mean(relative_diff))"
   ]
  },
  {
   "cell_type": "code",
   "execution_count": 6,
   "metadata": {},
   "outputs": [
    {
     "data": {
      "text/plain": [
       "array([0.88506166, 0.82780433, 0.77535088, 0.91911535, 0.78689871,\n",
       "       0.96133022, 0.90063804, 0.84199166, 0.82001326, 0.90195633])"
      ]
     },
     "execution_count": 6,
     "metadata": {},
     "output_type": "execute_result"
    }
   ],
   "source": [
    "Z_exacts"
   ]
  },
  {
   "cell_type": "code",
   "execution_count": 7,
   "metadata": {},
   "outputs": [
    {
     "data": {
      "text/plain": [
       "array([0.8757109 , 0.78451904, 0.75215181, 0.91765958, 0.75444991,\n",
       "       0.96239804, 0.89864245, 0.81578912, 0.77979154, 0.88587244])"
      ]
     },
     "execution_count": 7,
     "metadata": {},
     "output_type": "execute_result"
    }
   ],
   "source": [
    "Z_ppas"
   ]
  }
 ],
 "metadata": {
  "kernelspec": {
   "display_name": "research",
   "language": "python",
   "name": "python3"
  },
  "language_info": {
   "codemirror_mode": {
    "name": "ipython",
    "version": 3
   },
   "file_extension": ".py",
   "mimetype": "text/x-python",
   "name": "python",
   "nbconvert_exporter": "python",
   "pygments_lexer": "ipython3",
   "version": "3.11.5"
  }
 },
 "nbformat": 4,
 "nbformat_minor": 2
}
