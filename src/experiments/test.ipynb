{
 "cells": [
  {
   "cell_type": "code",
   "execution_count": 1,
   "metadata": {},
   "outputs": [],
   "source": [
    "import sys\n",
    "import random\n",
    "\n",
    "# add library to path (or else, src not visible)\n",
    "sys.path.insert(0, \"../../\")\n",
    "\n",
    "import matplotlib.pyplot as plt\n",
    "import numpy as np\n",
    "import pandas as pd\n",
    "import seaborn as sns\n",
    "\n",
    "from src.AllocationSolver import AllocationSolver\n",
    "from src.dists import SymmetricDiscreteDistribution, Distribution, UniformDistribution, NormalDistribution\n",
    "from src.plots import plot_against_algos, plot_against_alpha, plot_versus_alpha, map_algo_to_name, map_algo_to_color\n",
    "from src.monte_carlo import hoeffding_bound\n",
    "from src.format_data import clean_data\n",
    "from src.metrics import social_welfare_relative\n",
    "\n",
    "# use seaborn style plotting for poster presentation\n",
    "sns.set_context(\"talk\")\n",
    "sns.set_style(\"whitegrid\")"
   ]
  },
  {
   "cell_type": "code",
   "execution_count": 14,
   "metadata": {},
   "outputs": [
    {
     "data": {
      "text/plain": [
       "array([0.6])"
      ]
     },
     "execution_count": 14,
     "metadata": {},
     "output_type": "execute_result"
    }
   ],
   "source": [
    "social_welfare_relative(0)(np.array([[3, 3]]), np.array([[5, 5]]))"
   ]
  }
 ],
 "metadata": {
  "kernelspec": {
   "display_name": "research",
   "language": "python",
   "name": "python3"
  },
  "language_info": {
   "codemirror_mode": {
    "name": "ipython",
    "version": 3
   },
   "file_extension": ".py",
   "mimetype": "text/x-python",
   "name": "python",
   "nbconvert_exporter": "python",
   "pygments_lexer": "ipython3",
   "version": "3.11.5"
  }
 },
 "nbformat": 4,
 "nbformat_minor": 2
}
