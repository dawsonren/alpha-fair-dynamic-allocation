{
 "cells": [
  {
   "cell_type": "markdown",
   "metadata": {},
   "source": [
    "# Past Demands in State\n",
    "\n",
    "We numerically confirm that the past demands should be inside the state by showing that two separate demand histories produce separate allocation decisions."
   ]
  },
  {
   "cell_type": "code",
   "execution_count": 1,
   "metadata": {},
   "outputs": [],
   "source": [
    "import sys\n",
    "\n",
    "# add library to path (or else, src not visible)\n",
    "sys.path.insert(0, \"../../\")\n",
    "\n",
    "import matplotlib.pyplot as plt\n",
    "import numpy as np\n",
    "\n",
    "from src.AllocationSolver import AllocationSolver, State, ExtraState\n",
    "from src.dists import SymmetricDiscreteDistribution, Distribution, UniformDistribution\n",
    "from src.random_problem import generate_random_problem, generate_general_distribution"
   ]
  },
  {
   "cell_type": "code",
   "execution_count": 2,
   "metadata": {},
   "outputs": [],
   "source": [
    "prob = AllocationSolver(\n",
    "    [\n",
    "        Distribution((1, 2), (0.5, 0.5)),\n",
    "        Distribution((1, 3), (0.5, 0.5)),\n",
    "        Distribution((1, 4), (0.5, 0.5)),\n",
    "    ],\n",
    "    initial_supply=4,\n",
    "    alpha=1,\n",
    "    allocation_method=\"exact\",\n",
    "    verbosity=2,\n",
    "    alloc_step=0.001\n",
    ")"
   ]
  },
  {
   "cell_type": "markdown",
   "metadata": {},
   "source": [
    "We think of the situation when we've visited the first node, and observed either demand 1 or 2. Either way, we allocate 1. We then observe demand 3 at the second node. The optimal allocations then differs based on the demand at node 1, highlighting the importance of it being in the state."
   ]
  },
  {
   "cell_type": "code",
   "execution_count": 3,
   "metadata": {},
   "outputs": [
    {
     "name": "stdout",
     "output_type": "stream",
     "text": [
      "At time 3 with d_t=1 and c_t=0.7430000000000001, allocate what's left with Z=0.5591 and waste=0.\n",
      "At time 3 with d_t=4 and c_t=0.7430000000000001, allocate what's left with Z=0.311 and waste=0.\n",
      "At time 2 with d_t=3 and c_t=2, we allocate x_t=1.257.\n"
     ]
    },
    {
     "data": {
      "text/plain": [
       "(0.43508588900488865, 0.0)"
      ]
     },
     "execution_count": 3,
     "metadata": {},
     "output_type": "execute_result"
    }
   ],
   "source": [
    "prob.evaluate_allocation_policy(2, State(2, 3), ExtraState(1, 1, [1], [1]))"
   ]
  },
  {
   "cell_type": "code",
   "execution_count": 4,
   "metadata": {},
   "outputs": [
    {
     "name": "stdout",
     "output_type": "stream",
     "text": [
      "At time 3 with d_t=1 and c_t=0.772, allocate what's left with Z=0.4864 and waste=0.\n",
      "At time 3 with d_t=4 and c_t=0.772, allocate what's left with Z=0.3064 and waste=0.\n",
      "At time 2 with d_t=3 and c_t=2, we allocate x_t=1.228.\n"
     ]
    },
    {
     "data": {
      "text/plain": [
       "(0.396376106382054, 0.0)"
      ]
     },
     "execution_count": 4,
     "metadata": {},
     "output_type": "execute_result"
    }
   ],
   "source": [
    "prob.evaluate_allocation_policy(2, State(2, 3), ExtraState(1, 1, [1], [2]))"
   ]
  },
  {
   "cell_type": "markdown",
   "metadata": {},
   "source": [
    "The same thing happens when we keep the demand at node 1 the same but the allocation differs."
   ]
  },
  {
   "cell_type": "code",
   "execution_count": 5,
   "metadata": {},
   "outputs": [
    {
     "name": "stdout",
     "output_type": "stream",
     "text": [
      "At time 3 with d_t=1 and c_t=0.752, allocate what's left with Z=0.4858 and waste=0.\n",
      "At time 3 with d_t=4 and c_t=0.752, allocate what's left with Z=0.2862 and waste=0.\n",
      "At time 2 with d_t=3 and c_t=2, we allocate x_t=1.248.\n"
     ]
    },
    {
     "data": {
      "text/plain": [
       "(0.38600057821759076, 0.0)"
      ]
     },
     "execution_count": 5,
     "metadata": {},
     "output_type": "execute_result"
    }
   ],
   "source": [
    "prob.evaluate_allocation_policy(2, State(2, 3), ExtraState(1, 1, [0.5], [1]))"
   ]
  },
  {
   "cell_type": "code",
   "execution_count": 6,
   "metadata": {},
   "outputs": [
    {
     "name": "stdout",
     "output_type": "stream",
     "text": [
      "At time 3 with d_t=1 and c_t=0.7430000000000001, allocate what's left with Z=0.5591 and waste=0.\n",
      "At time 3 with d_t=4 and c_t=0.7430000000000001, allocate what's left with Z=0.311 and waste=0.\n",
      "At time 2 with d_t=3 and c_t=2, we allocate x_t=1.257.\n"
     ]
    },
    {
     "data": {
      "text/plain": [
       "(0.43508588900488865, 0.0)"
      ]
     },
     "execution_count": 6,
     "metadata": {},
     "output_type": "execute_result"
    }
   ],
   "source": [
    "prob.evaluate_allocation_policy(2, State(2, 3), ExtraState(1, 1, [1], [1]))"
   ]
  }
 ],
 "metadata": {
  "kernelspec": {
   "display_name": "research",
   "language": "python",
   "name": "python3"
  },
  "language_info": {
   "codemirror_mode": {
    "name": "ipython",
    "version": 3
   },
   "file_extension": ".py",
   "mimetype": "text/x-python",
   "name": "python",
   "nbconvert_exporter": "python",
   "pygments_lexer": "ipython3",
   "version": "3.11.5"
  }
 },
 "nbformat": 4,
 "nbformat_minor": 2
}
