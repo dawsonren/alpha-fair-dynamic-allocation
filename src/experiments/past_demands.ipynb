{
 "cells": [
  {
   "cell_type": "markdown",
   "metadata": {},
   "source": [
    "# Past Demands in State\n",
    "\n",
    "We numerically confirm that the past demands should be inside the state by showing that two separate demand histories produce separate allocation decisions."
   ]
  },
  {
   "cell_type": "code",
   "execution_count": 29,
   "metadata": {},
   "outputs": [],
   "source": [
    "import sys\n",
    "\n",
    "# add library to path (or else, src not visible)\n",
    "sys.path.insert(0, \"../../\")\n",
    "\n",
    "import matplotlib.pyplot as plt\n",
    "import numpy as np\n",
    "\n",
    "from src.AllocationSolver import AllocationSolver, social_welfare_absolute, social_welfare_relative, State, ExtraState\n",
    "from src.dists import SymmetricDiscreteDistribution, Distribution, UniformDistribution\n",
    "from src.random_problem import generate_random_problem, generate_general_distribution"
   ]
  },
  {
   "cell_type": "code",
   "execution_count": 30,
   "metadata": {},
   "outputs": [],
   "source": [
    "prob = AllocationSolver(\n",
    "    [\n",
    "        Distribution((0, 1), (0.5, 0.5)),\n",
    "        Distribution((0, 1), (0.5, 0.5)),\n",
    "        Distribution((0, 1), (0.5, 0.5))\n",
    "    ],\n",
    "    initial_supply=4,\n",
    "    alpha=1,\n",
    "    allocation_method=\"exact\",\n",
    "    verbosity=2,\n",
    "    alloc_step=0.001\n",
    ")"
   ]
  },
  {
   "cell_type": "code",
   "execution_count": 31,
   "metadata": {},
   "outputs": [
    {
     "name": "stdout",
     "output_type": "stream",
     "text": [
      "At time 3 with d_t=0 and c_t=0.33499999999999996, allocate what's left with Z=0.664 and waste=0.335.\n",
      "At time 3 with d_t=1 and c_t=0.33499999999999996, allocate what's left with Z=0.4716 and waste=0.\n",
      "At time 2 with d_t=0 and c_t=0.33599999999999997, we allocate x_t=0.001.\n",
      "At time 3 with d_t=0 and c_t=0.07099999999999995, allocate what's left with Z=0.4195 and waste=0.071.\n",
      "At time 3 with d_t=1 and c_t=0.07099999999999995, allocate what's left with Z=0.232 and waste=0.\n",
      "At time 2 with d_t=1 and c_t=0.33599999999999997, we allocate x_t=0.265.\n",
      "At time 1 with d_t=1 and c_t=1, we allocate x_t=0.664.\n"
     ]
    },
    {
     "data": {
      "text/plain": [
       "(0.44678710463457766, 0.10149999999999998)"
      ]
     },
     "execution_count": 31,
     "metadata": {},
     "output_type": "execute_result"
    }
   ],
   "source": [
    "prob.evaluate_allocation_policy(1, State(1, 1), ExtraState(1, 1, [0.5], [0]))"
   ]
  },
  {
   "cell_type": "code",
   "execution_count": 32,
   "metadata": {},
   "outputs": [
    {
     "name": "stdout",
     "output_type": "stream",
     "text": [
      "At time 3 with d_t=0 and c_t=0.41400000000000003, allocate what's left with Z=0.5408 and waste=0.414.\n",
      "At time 3 with d_t=1 and c_t=0.41400000000000003, allocate what's left with Z=0.4947 and waste=0.\n",
      "At time 2 with d_t=0 and c_t=0.41500000000000004, we allocate x_t=0.001.\n",
      "At time 3 with d_t=0 and c_t=0.10600000000000004, allocate what's left with Z=0.4488 and waste=0.106.\n",
      "At time 3 with d_t=1 and c_t=0.10600000000000004, allocate what's left with Z=0.3129 and waste=0.\n",
      "At time 2 with d_t=1 and c_t=0.41500000000000004, we allocate x_t=0.309.\n",
      "At time 1 with d_t=1 and c_t=1, we allocate x_t=0.585.\n"
     ]
    },
    {
     "data": {
      "text/plain": [
       "(0.44930087404036767, 0.13)"
      ]
     },
     "execution_count": 32,
     "metadata": {},
     "output_type": "execute_result"
    }
   ],
   "source": [
    "prob.evaluate_allocation_policy(1, State(1, 1), ExtraState(1, 1, [0.5], [1]))"
   ]
  }
 ],
 "metadata": {
  "kernelspec": {
   "display_name": "research",
   "language": "python",
   "name": "python3"
  },
  "language_info": {
   "codemirror_mode": {
    "name": "ipython",
    "version": 3
   },
   "file_extension": ".py",
   "mimetype": "text/x-python",
   "name": "python",
   "nbconvert_exporter": "python",
   "pygments_lexer": "ipython3",
   "version": "3.11.5"
  }
 },
 "nbformat": 4,
 "nbformat_minor": 2
}
